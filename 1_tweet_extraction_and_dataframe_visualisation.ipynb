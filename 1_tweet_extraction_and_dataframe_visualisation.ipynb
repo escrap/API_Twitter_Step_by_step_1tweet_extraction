{
 "cells": [
  {
   "cell_type": "markdown",
   "metadata": {},
   "source": [
    "# Twitter API usage with Tweepy "
   ]
  },
  {
   "cell_type": "markdown",
   "metadata": {},
   "source": [
    ">### Extracting a single tweet from Twitter account using tweepy. (in advance , we know the Id of the tweet). Full process via API, Json formatted .txt and dataframe construction."
   ]
  },
  {
   "cell_type": "markdown",
   "metadata": {},
   "source": [
    "> All Twitter APIs that return Tweets provide that data encoded using JavaScript Object Notation (JSON). JSON is based on key-value pairs, with named attributes and associated values. These attributes, and their state are used to describe objects."
   ]
  },
  {
   "cell_type": "code",
   "execution_count": 1,
   "metadata": {},
   "outputs": [],
   "source": [
    "# Importing the required libraries that we are going to use:\n",
    "import os\n",
    "import pandas as pd\n",
    "import numpy as np\n",
    "import tweepy\n",
    "import json"
   ]
  },
  {
   "cell_type": "code",
   "execution_count": 2,
   "metadata": {},
   "outputs": [],
   "source": [
    "# Providing our keys to connect to Twitter API:\n",
    "\n",
    "consumer_key='HIDDEN'\n",
    "consumer_secret='HIDDEN'\n",
    "\n",
    "access_token='HIDDEN'\n",
    "access_token_secret='HIDDEN'\n"
   ]
  },
  {
   "cell_type": "code",
   "execution_count": 3,
   "metadata": {},
   "outputs": [],
   "source": [
    "# OAuthHandler instance\n",
    "\n",
    "auth = tweepy.OAuthHandler(consumer_key, consumer_secret)\n",
    "auth.set_access_token(access_token, access_token_secret)"
   ]
  },
  {
   "cell_type": "code",
   "execution_count": 4,
   "metadata": {},
   "outputs": [],
   "source": [
    "#Finally we create an API object that we are going to \n",
    "#use it to fetch the tweets:\n",
    "\n",
    "api = tweepy.API(auth_handler=auth, wait_on_rate_limit=True, wait_on_rate_limit_notify=True)"
   ]
  },
  {
   "cell_type": "code",
   "execution_count": 5,
   "metadata": {},
   "outputs": [],
   "source": [
    "# Let's start by extracting a tweet , which ID we know. This is not usual\n",
    "# but useful in terms of educational target.\n",
    "# Our Id is 1105865220285710339 and belongs to the account @tv3cat (catalan news channel)\n",
    "\n",
    "tweet= api.get_status(1105865220285710339 , tweet_mode='extended')"
   ]
  },
  {
   "cell_type": "code",
   "execution_count": 6,
   "metadata": {},
   "outputs": [
    {
     "data": {
      "text/plain": [
       "{'created_at': 'Wed Mar 13 16:16:29 +0000 2019',\n",
       " 'id': 1105865220285710339,\n",
       " 'id_str': '1105865220285710339',\n",
       " 'full_text': 'Cinc seguidors de l’Olympique de Lió ferits a l’avinguda de Madrid. Un amb una ferida al cap i 4 ruixats amb gas pebre, segons informa la Cadena SER\\nhttps://t.co/tOWOUMJfNp',\n",
       " 'truncated': False,\n",
       " 'display_text_range': [0, 172],\n",
       " 'entities': {'hashtags': [],\n",
       "  'symbols': [],\n",
       "  'user_mentions': [],\n",
       "  'urls': [{'url': 'https://t.co/tOWOUMJfNp',\n",
       "    'expanded_url': 'http://bit.ly/2u203AW',\n",
       "    'display_url': 'bit.ly/2u203AW',\n",
       "    'indices': [149, 172]}]},\n",
       " 'source': '<a href=\"https://about.twitter.com/products/tweetdeck\" rel=\"nofollow\">TweetDeck</a>',\n",
       " 'in_reply_to_status_id': 1105860774868721665,\n",
       " 'in_reply_to_status_id_str': '1105860774868721665',\n",
       " 'in_reply_to_user_id': 8330472,\n",
       " 'in_reply_to_user_id_str': '8330472',\n",
       " 'in_reply_to_screen_name': '324cat',\n",
       " 'user': {'id': 8330472,\n",
       "  'id_str': '8330472',\n",
       "  'name': '324.cat',\n",
       "  'screen_name': '324cat',\n",
       "  'location': 'Barcelona',\n",
       "  'description': \"Tot el que vols saber, quan ho vols saber. Segueix l'actualitat al portal de notícies de @tv3cat i @catalunyaradio\",\n",
       "  'url': 'https://t.co/ZNcVUlOvnh',\n",
       "  'entities': {'url': {'urls': [{'url': 'https://t.co/ZNcVUlOvnh',\n",
       "      'expanded_url': 'http://www.324.cat',\n",
       "      'display_url': '324.cat',\n",
       "      'indices': [0, 23]}]},\n",
       "   'description': {'urls': []}},\n",
       "  'protected': False,\n",
       "  'followers_count': 531361,\n",
       "  'friends_count': 321,\n",
       "  'listed_count': 5236,\n",
       "  'created_at': 'Tue Aug 21 14:03:19 +0000 2007',\n",
       "  'favourites_count': 39,\n",
       "  'utc_offset': None,\n",
       "  'time_zone': None,\n",
       "  'geo_enabled': True,\n",
       "  'verified': True,\n",
       "  'statuses_count': 306152,\n",
       "  'lang': 'ca',\n",
       "  'contributors_enabled': False,\n",
       "  'is_translator': False,\n",
       "  'is_translation_enabled': False,\n",
       "  'profile_background_color': 'AEC3C4',\n",
       "  'profile_background_image_url': 'http://abs.twimg.com/images/themes/theme1/bg.png',\n",
       "  'profile_background_image_url_https': 'https://abs.twimg.com/images/themes/theme1/bg.png',\n",
       "  'profile_background_tile': False,\n",
       "  'profile_image_url': 'http://pbs.twimg.com/profile_images/1053300405642412032/idaQc_hX_normal.jpg',\n",
       "  'profile_image_url_https': 'https://pbs.twimg.com/profile_images/1053300405642412032/idaQc_hX_normal.jpg',\n",
       "  'profile_banner_url': 'https://pbs.twimg.com/profile_banners/8330472/1552084081',\n",
       "  'profile_link_color': 'FB4E23',\n",
       "  'profile_sidebar_border_color': 'FFFFFF',\n",
       "  'profile_sidebar_fill_color': 'FFE2A8',\n",
       "  'profile_text_color': '000000',\n",
       "  'profile_use_background_image': True,\n",
       "  'has_extended_profile': False,\n",
       "  'default_profile': False,\n",
       "  'default_profile_image': False,\n",
       "  'following': False,\n",
       "  'follow_request_sent': False,\n",
       "  'notifications': False,\n",
       "  'translator_type': 'regular'},\n",
       " 'geo': None,\n",
       " 'coordinates': None,\n",
       " 'place': None,\n",
       " 'contributors': None,\n",
       " 'is_quote_status': False,\n",
       " 'retweet_count': 15,\n",
       " 'favorite_count': 11,\n",
       " 'favorited': False,\n",
       " 'retweeted': False,\n",
       " 'possibly_sensitive': False,\n",
       " 'possibly_sensitive_appealable': False,\n",
       " 'lang': 'ca'}"
      ]
     },
     "execution_count": 6,
     "metadata": {},
     "output_type": "execute_result"
    }
   ],
   "source": [
    "# Now, let's look at the json structure of the tweet\n",
    "tweet._json"
   ]
  },
  {
   "cell_type": "code",
   "execution_count": 7,
   "metadata": {},
   "outputs": [],
   "source": [
    "# we can as well DUMP the info in a txt json formatted file named tweet_json.txt.\n",
    "# First we create the file\n",
    "\n",
    "file_name = 'tweet_json.txt'\n",
    "\n",
    "if not os.path.isfile(file_name):\n",
    "    open(file_name, 'w').close()\n",
    "    "
   ]
  },
  {
   "cell_type": "code",
   "execution_count": 8,
   "metadata": {},
   "outputs": [],
   "source": [
    "#Now it is time to create a .txt file json formatted \n",
    "\n",
    "with open('tweet_json.txt', 'w') as file:\n",
    "        file.write(json.dumps(tweet._json, indent=4))\n",
    "        "
   ]
  },
  {
   "cell_type": "code",
   "execution_count": 9,
   "metadata": {},
   "outputs": [],
   "source": [
    "# in order to create the dataframe , I go on by creating manualy a dictionary for the tweet\n",
    "\n",
    "dictionary = []\n",
    "\n",
    "tweet_id = tweet._json['id']\n",
    "text = tweet._json['full_text']\n",
    "favorite_count = tweet._json['favorite_count']\n",
    "retweet_count = tweet._json['retweet_count']\n",
    "created_at = tweet._json['created_at']\n",
    "dictionary.append({'tweet_id': str(tweet_id),\n",
    "                             'text': str(text),\n",
    "                             'favorite_count': int(favorite_count),\n",
    "                             'retweet_count': int(retweet_count),\n",
    "                             'created_at': created_at,\n",
    "                            })\n",
    "        \n",
    "tweet_json = pd.DataFrame(dictionary, columns = \n",
    "                                  ['tweet_id', 'text', \n",
    "                                   'favorite_count', 'retweet_count', \n",
    "                                   'created_at'])"
   ]
  },
  {
   "cell_type": "code",
   "execution_count": 10,
   "metadata": {},
   "outputs": [
    {
     "data": {
      "text/html": [
       "<div>\n",
       "<style scoped>\n",
       "    .dataframe tbody tr th:only-of-type {\n",
       "        vertical-align: middle;\n",
       "    }\n",
       "\n",
       "    .dataframe tbody tr th {\n",
       "        vertical-align: top;\n",
       "    }\n",
       "\n",
       "    .dataframe thead th {\n",
       "        text-align: right;\n",
       "    }\n",
       "</style>\n",
       "<table border=\"1\" class=\"dataframe\">\n",
       "  <thead>\n",
       "    <tr style=\"text-align: right;\">\n",
       "      <th></th>\n",
       "      <th>tweet_id</th>\n",
       "      <th>text</th>\n",
       "      <th>favorite_count</th>\n",
       "      <th>retweet_count</th>\n",
       "      <th>created_at</th>\n",
       "    </tr>\n",
       "  </thead>\n",
       "  <tbody>\n",
       "    <tr>\n",
       "      <th>0</th>\n",
       "      <td>1105865220285710339</td>\n",
       "      <td>Cinc seguidors de l’Olympique de Lió ferits a ...</td>\n",
       "      <td>11</td>\n",
       "      <td>15</td>\n",
       "      <td>Wed Mar 13 16:16:29 +0000 2019</td>\n",
       "    </tr>\n",
       "  </tbody>\n",
       "</table>\n",
       "</div>"
      ],
      "text/plain": [
       "              tweet_id                                               text  \\\n",
       "0  1105865220285710339  Cinc seguidors de l’Olympique de Lió ferits a ...   \n",
       "\n",
       "   favorite_count  retweet_count                      created_at  \n",
       "0              11             15  Wed Mar 13 16:16:29 +0000 2019  "
      ]
     },
     "execution_count": 10,
     "metadata": {},
     "output_type": "execute_result"
    }
   ],
   "source": [
    "tweet_json"
   ]
  },
  {
   "cell_type": "code",
   "execution_count": null,
   "metadata": {},
   "outputs": [],
   "source": []
  }
 ],
 "metadata": {
  "kernelspec": {
   "display_name": "Python 3",
   "language": "python",
   "name": "python3"
  },
  "language_info": {
   "codemirror_mode": {
    "name": "ipython",
    "version": 3
   },
   "file_extension": ".py",
   "mimetype": "text/x-python",
   "name": "python",
   "nbconvert_exporter": "python",
   "pygments_lexer": "ipython3",
   "version": "3.6.5"
  }
 },
 "nbformat": 4,
 "nbformat_minor": 2
}
